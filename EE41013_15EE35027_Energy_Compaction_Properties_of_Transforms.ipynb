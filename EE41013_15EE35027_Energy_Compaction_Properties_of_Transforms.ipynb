{
 "cells": [
  {
   "cell_type": "code",
   "execution_count": 66,
   "metadata": {},
   "outputs": [],
   "source": [
    "import numpy as np\n",
    "import matplotlib.pyplot as plt\n",
    "import math\n",
    "np.set_printoptions(suppress=True)\n",
    "import random"
   ]
  },
  {
   "cell_type": "code",
   "execution_count": 67,
   "metadata": {},
   "outputs": [],
   "source": [
    "def trans_mat(N):\n",
    "    w=np.ones((N,N), dtype= np.complex64)\n",
    "    wn= np.exp(-1j*2*np.pi/N)\n",
    "    row = []\n",
    "    val=1\n",
    "    for i in range(N):\n",
    "        row.append(val)\n",
    "        val= val*wn\n",
    "    row= np.array(row)\n",
    "    #print(row)\n",
    "    w[1]= row\n",
    "    newRow= row\n",
    "    for i in range(N-2):\n",
    "        newRow= newRow*row\n",
    "        w[i+2]= newRow\n",
    "        #print(newRow)\n",
    "    return w"
   ]
  },
  {
   "cell_type": "code",
   "execution_count": null,
   "metadata": {},
   "outputs": [],
   "source": [
    "\n",
    "#DFT and IDFT\n"
   ]
  },
  {
   "cell_type": "code",
   "execution_count": 68,
   "metadata": {},
   "outputs": [],
   "source": [
    "def my_dft(x):\n",
    "    N= len(x)\n",
    "    out= np.dot(trans_mat(N), x)\n",
    "    return out"
   ]
  },
  {
   "cell_type": "code",
   "execution_count": 69,
   "metadata": {},
   "outputs": [
    {
     "data": {
      "text/plain": [
       "array([ 8.+0.j, -2.-2.j,  0.+0.j, -2.+2.j])"
      ]
     },
     "execution_count": 69,
     "metadata": {},
     "output_type": "execute_result"
    }
   ],
   "source": [
    "d= my_dft([1,3,3,1])\n",
    "d"
   ]
  },
  {
   "cell_type": "code",
   "execution_count": 70,
   "metadata": {},
   "outputs": [],
   "source": [
    "def my_idft(X):\n",
    "    K=len(X)\n",
    "    out= (1/K)*np.matmul(np.conjugate(trans_mat(K)), X)\n",
    "    return np.absolute(out)"
   ]
  },
  {
   "cell_type": "code",
   "execution_count": 71,
   "metadata": {},
   "outputs": [
    {
     "data": {
      "text/plain": [
       "array([1., 3., 3., 1.])"
      ]
     },
     "execution_count": 71,
     "metadata": {},
     "output_type": "execute_result"
    }
   ],
   "source": [
    "my_idft(d)"
   ]
  },
  {
   "cell_type": "code",
   "execution_count": null,
   "metadata": {},
   "outputs": [],
   "source": [
    "\n",
    "#DCT and IDCT\n"
   ]
  },
  {
   "cell_type": "code",
   "execution_count": 72,
   "metadata": {},
   "outputs": [],
   "source": [
    "def my_dct(x):\n",
    "    N=len(x)\n",
    "    mat= np.zeros((N,N))\n",
    "    for i in range(N):\n",
    "        for j in range(N):\n",
    "            mat[i][j]= 2*np.cos(np.pi*(2*j+1)*i/(2*N))\n",
    "    out= np.dot(mat, x)\n",
    "    return out"
   ]
  },
  {
   "cell_type": "code",
   "execution_count": 73,
   "metadata": {},
   "outputs": [
    {
     "data": {
      "text/plain": [
       "array([16.        ,  0.        , -5.65685425, -0.        ])"
      ]
     },
     "execution_count": 73,
     "metadata": {},
     "output_type": "execute_result"
    }
   ],
   "source": [
    "x= [1,3,3,1]\n",
    "c=my_dct(x)\n",
    "c"
   ]
  },
  {
   "cell_type": "code",
   "execution_count": 74,
   "metadata": {},
   "outputs": [],
   "source": [
    "def my_idct(X):\n",
    "    K= len(X)\n",
    "    #print(K)\n",
    "    mat= np.zeros((K,K), dtype=np.float)\n",
    "    for i in range(K):\n",
    "        for j in range(K):\n",
    "            if(j==0):\n",
    "                mat[i][j]= (1/(2*K))*np.cos(np.pi*j*(2*i+1)/(2*K))\n",
    "            else:\n",
    "                mat[i][j]= (1/(1*K))*np.cos(np.pi*j*(2*i+1)/(2*K))\n",
    "    out= np.dot(mat, X)\n",
    "    return out"
   ]
  },
  {
   "cell_type": "code",
   "execution_count": 75,
   "metadata": {},
   "outputs": [
    {
     "data": {
      "text/plain": [
       "array([1., 3., 3., 1.])"
      ]
     },
     "execution_count": 75,
     "metadata": {},
     "output_type": "execute_result"
    }
   ],
   "source": [
    "my_idct(c)"
   ]
  },
  {
   "cell_type": "code",
   "execution_count": null,
   "metadata": {},
   "outputs": [],
   "source": [
    "\n",
    "#Haar Transform and Inverse Haar\n"
   ]
  },
  {
   "cell_type": "code",
   "execution_count": 76,
   "metadata": {},
   "outputs": [],
   "source": [
    "def my_haar(x):\n",
    "    v= (int)(np.log2(len(x)))\n",
    "    initial= np.array([[1.0]])\n",
    "    const1= np.array([math.sqrt(0.5),math.sqrt(0.5)])\n",
    "    const2= np.array([math.sqrt(0.5),-math.sqrt(0.5)])\n",
    "    for i in range(1,v+1):\n",
    "        shape= (int)(pow(2,i-1))\n",
    "        upper= np.kron(initial, const1)\n",
    "        lower= np.kron(np.identity(shape), const2)\n",
    "        initial= np.concatenate((upper, lower), axis=0)\n",
    "        #print(initial)\n",
    "    #print(initial)\n",
    "    out= np.dot(initial, x)\n",
    "    return out"
   ]
  },
  {
   "cell_type": "code",
   "execution_count": 77,
   "metadata": {},
   "outputs": [
    {
     "data": {
      "text/plain": [
       "array([ 4.        ,  0.        , -1.41421356,  1.41421356])"
      ]
     },
     "execution_count": 77,
     "metadata": {},
     "output_type": "execute_result"
    }
   ],
   "source": [
    "x= [1,3,3,1]\n",
    "h= my_haar(x)\n",
    "h"
   ]
  },
  {
   "cell_type": "code",
   "execution_count": 78,
   "metadata": {},
   "outputs": [],
   "source": [
    "def my_ihaar(X):\n",
    "    v= (int)(np.log2(len(X)))\n",
    "    initial= np.array([[1.0]])\n",
    "    const1= np.array([math.sqrt(0.5),math.sqrt(0.5)])\n",
    "    const2= np.array([math.sqrt(0.5),-math.sqrt(0.5)])\n",
    "    for i in range(1,v+1):\n",
    "        shape= (int)(pow(2,i-1))\n",
    "        upper= np.kron(initial, const1)\n",
    "        lower= np.kron(np.identity(shape), const2)\n",
    "        initial= np.concatenate((upper, lower), axis=0)\n",
    "        #print(initial)\n",
    "    N= len(X)\n",
    "    initial= np.transpose(initial)\n",
    "    out= np.dot(initial, X)\n",
    "    return out"
   ]
  },
  {
   "cell_type": "code",
   "execution_count": 79,
   "metadata": {},
   "outputs": [
    {
     "data": {
      "text/plain": [
       "array([1., 3., 3., 1.])"
      ]
     },
     "execution_count": 79,
     "metadata": {},
     "output_type": "execute_result"
    }
   ],
   "source": [
    "my_ihaar(h)"
   ]
  },
  {
   "cell_type": "code",
   "execution_count": null,
   "metadata": {},
   "outputs": [],
   "source": [
    "\n",
    "#Energy Compaction\n"
   ]
  },
  {
   "cell_type": "code",
   "execution_count": 80,
   "metadata": {},
   "outputs": [],
   "source": [
    "def loss_dft(x, L):\n",
    "    X_dft= my_dft(x)\n",
    "    N= len(X_dft)\n",
    "    low= int((N-L+1)/2)\n",
    "    high= int((N-1+L)/2)\n",
    "    for i in range(low, high+1):\n",
    "        X_dft[i]= 0\n",
    "    x1= my_idft(X_dft)\n",
    "    val=np.sum(np.square(x-x1))\n",
    "    return val/N"
   ]
  },
  {
   "cell_type": "code",
   "execution_count": 81,
   "metadata": {},
   "outputs": [],
   "source": [
    "def loss_dct(x, L):\n",
    "    X_dct= my_dct(x)\n",
    "    N= len(X_dct)\n",
    "    low= (int)((N-L))\n",
    "    high= int((N-1))\n",
    "    for i in range(low, high+1):\n",
    "        X_dct[i]= 0\n",
    "    x1= my_idct(X_dct)\n",
    "    #print(x1)\n",
    "    val=np.sum(np.square(x-x1))\n",
    "    return val/N"
   ]
  },
  {
   "cell_type": "code",
   "execution_count": 82,
   "metadata": {},
   "outputs": [],
   "source": [
    "def loss_haar(x, L):\n",
    "    X_haar= my_haar(x)\n",
    "    N= len(X_haar)\n",
    "    low= (int)((N-L))\n",
    "    high= int((N-1))\n",
    "    for i in range(low, high+1):\n",
    "        X_haar[i]= 0\n",
    "    x1= my_ihaar(X_haar)\n",
    "    val=np.sum(np.square(x-x1))\n",
    "    return val/N"
   ]
  },
  {
   "cell_type": "code",
   "execution_count": 88,
   "metadata": {},
   "outputs": [
    {
     "data": {
      "text/plain": [
       "array([ 33,  74, 113,  63, 151, 183,  48, 154, 110, 189,   5, 191, 115,\n",
       "        89, 158, 188, 118,  50, 164,  25, 195,  44,  38, 194, 116,  97,\n",
       "       166,  37, 101, 222, 172, 143, 245, 182,  55, 243, 124,  64,  32,\n",
       "       239, 119,  10, 255,  49,  12, 215, 171,  96, 234,  56, 125,  79,\n",
       "       137, 232, 206,  81,  11, 224,  19, 167, 220, 145, 213, 237, 149,\n",
       "       236, 238,  80, 240,  40, 216, 132, 231, 202, 106, 159,  13,  21,\n",
       "        84, 212, 221,  82,  36, 135,  22, 185, 136,  59, 174, 130, 108,\n",
       "       141, 203,  93, 100,  91,  57,  18, 204, 200, 117,  53, 176, 128,\n",
       "        27, 112, 254, 103, 181, 249, 102, 184,  17, 230,  16,  68, 156,\n",
       "        90,  71,   9, 146, 178, 140, 111, 131,  62, 227,   3, 244, 211,\n",
       "       105, 173, 205, 190,  47, 197,  58, 150,  31, 201, 193,  95,  34,\n",
       "       198, 161,  23, 147,  14, 126, 153, 152,  45, 214,  85, 138, 133,\n",
       "       165,   4,  70,  42, 155,  76, 248, 226, 207,  69,  77, 209, 235,\n",
       "        39,  66, 148, 134, 109,  61, 252,  99,  54,  86,  51, 223,  98,\n",
       "        87, 104,  75, 144,  65,  28, 199,  30, 160, 187, 246, 157,   1,\n",
       "       210,  73,  60, 170, 122,  67, 251,  29,  72, 218,   2, 192, 162,\n",
       "       129, 225, 163,  26, 180,  52, 228, 186,   6, 233,  83, 168, 250,\n",
       "       114, 142, 177, 123,  24, 120, 179, 247,  41,  15, 127, 196, 175,\n",
       "       253, 121,  35, 139,   8, 242,  88, 107,   0, 229,  20,  92, 219,\n",
       "       241,  43,   7,  78, 217,  46,  94, 169, 208])"
      ]
     },
     "execution_count": 88,
     "metadata": {},
     "output_type": "execute_result"
    }
   ],
   "source": [
    "x= np.array(random.sample(range(256),256))\n",
    "dct=[]\n",
    "dft=[]\n",
    "haar=[]\n",
    "for i in range(150, 250):\n",
    "    dct.append(loss_dct(x, i))\n",
    "    dft.append(loss_dft(x, i))\n",
    "    haar.append(loss_haar(x,i))\n",
    "\n",
    "dct= np.array(dct)\n",
    "dft= np.array(dft)\n",
    "haar= np.array(haar)\n",
    "x"
   ]
  },
  {
   "cell_type": "code",
   "execution_count": 89,
   "metadata": {},
   "outputs": [
    {
     "data": {
      "image/png": "[encoded data removed]",
      "text/plain": [
       "<Figure size 432x288 with 1 Axes>"
      ]
     },
     "metadata": {},
     "output_type": "display_data"
    }
   ],
   "source": [
    "plt.plot(range(150,250),dft, 'r', label=\"DFT\")\n",
    "plt.plot(range(150, 250),dct, 'b', label=\"DCT\")\n",
    "plt.plot(range(150, 250),haar, 'g', label= \"Haar\")\n",
    "plt.xlabel(\"Number of Coefficients set to zero\")\n",
    "plt.ylabel(\"Mean square approximation error\")\n",
    "plt.legend()\n",
    "plt.show()"
   ]
  },
  {
   "cell_type": "code",
   "execution_count": null,
   "metadata": {},
   "outputs": [],
   "source": []
  }
 ],
 "metadata": {
  "kernelspec": {
   "display_name": "Python 3",
   "language": "python",
   "name": "python3"
  },
  "language_info": {
   "codemirror_mode": {
    "name": "ipython",
    "version": 3
   },
   "file_extension": ".py",
   "mimetype": "text/x-python",
   "name": "python",
   "nbconvert_exporter": "python",
   "pygments_lexer": "ipython3",
   "version": "3.6.5"
  }
 },
 "nbformat": 4,
 "nbformat_minor": 2
}
